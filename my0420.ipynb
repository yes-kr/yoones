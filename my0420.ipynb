{
  "nbformat": 4,
  "nbformat_minor": 0,
  "metadata": {
    "colab": {
      "name": "my0420.ipynb",
      "provenance": [],
      "authorship_tag": "ABX9TyNABhwbHYnSF8nWT+ASE6Kc",
      "include_colab_link": true
    },
    "kernelspec": {
      "name": "python3",
      "display_name": "Python 3"
    }
  },
  "cells": [
    {
      "cell_type": "markdown",
      "metadata": {
        "id": "view-in-github",
        "colab_type": "text"
      },
      "source": [
        "<a href=\"https://colab.research.google.com/github/yes-kr/yoones/blob/master/my0420.ipynb\" target=\"_parent\"><img src=\"https://colab.research.google.com/assets/colab-badge.svg\" alt=\"Open In Colab\"/></a>"
      ]
    },
    {
      "cell_type": "code",
      "metadata": {
        "id": "0P_1ULczHWCa",
        "colab_type": "code",
        "colab": {
          "base_uri": "https://localhost:8080/",
          "height": 52
        },
        "outputId": "72a19ebf-5113-4629-8310-a88dcf451d38"
      },
      "source": [
        "x=9.7\n",
        "y_difference=0\n",
        "\n",
        "for i in range(100):\n",
        "  y=x**2+1\n",
        "  y_prime=2*x\n",
        "\n",
        "  if(y_prime>0):\n",
        "    x=x-0.1\n",
        "    y_difference=y-(x**2+1)\n",
        "    slope=y_difference/(0.1)\n",
        "    if (slope<0.000001):\n",
        "      print(\"The minimum solution\", \"\\n x:\",x,\"y:\",y) \n",
        "      break\n",
        "\n",
        "  elif(y_prime<0):\n",
        "     x=x+0.1\n",
        "     y_difference=y-(x**2+1)\n",
        "     slope=y_difference/(-0.1)\n",
        "     if(slope>-0.000001):\n",
        "       print(\"The minimum solution\", \"\\n x:\",x,\"y:\",y) \n",
        "       break\n",
        "   \n",
        "  else:\n",
        "     print(\"The minimum solution\", \"\\n x:\",x,\"y:\",y)\n",
        "     break "
      ],
      "execution_count": 17,
      "outputs": [
        {
          "output_type": "stream",
          "text": [
            "The minimum solution \n",
            " x: -0.09999999999998299 y: 1.0\n"
          ],
          "name": "stdout"
        }
      ]
    },
    {
      "cell_type": "code",
      "metadata": {
        "id": "Mtx9yVA9LTZ3",
        "colab_type": "code",
        "colab": {}
      },
      "source": [
        ""
      ],
      "execution_count": 0,
      "outputs": []
    }
  ]
}