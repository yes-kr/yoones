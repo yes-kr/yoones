{
  "nbformat": 4,
  "nbformat_minor": 0,
  "metadata": {
    "colab": {
      "name": "my0417.ipynb",
      "provenance": [],
      "authorship_tag": "ABX9TyOitLWXvmeE+JT11u15b55V",
      "include_colab_link": true
    },
    "kernelspec": {
      "name": "python3",
      "display_name": "Python 3"
    }
  },
  "cells": [
    {
      "cell_type": "markdown",
      "metadata": {
        "id": "view-in-github",
        "colab_type": "text"
      },
      "source": [
        "<a href=\"https://colab.research.google.com/github/yes-kr/yoones/blob/master/my0417.ipynb\" target=\"_parent\"><img src=\"https://colab.research.google.com/assets/colab-badge.svg\" alt=\"Open In Colab\"/></a>"
      ]
    },
    {
      "cell_type": "code",
      "metadata": {
        "id": "Zp5641y8DFJS",
        "colab_type": "code",
        "colab": {}
      },
      "source": [
        "#List"
      ],
      "execution_count": 0,
      "outputs": []
    },
    {
      "cell_type": "code",
      "metadata": {
        "id": "mHjFqGcZA4ji",
        "colab_type": "code",
        "colab": {}
      },
      "source": [
        "list1= [1, 'hello']"
      ],
      "execution_count": 0,
      "outputs": []
    },
    {
      "cell_type": "code",
      "metadata": {
        "id": "bfHTwjrBBAar",
        "colab_type": "code",
        "colab": {}
      },
      "source": [
        "list1.append([1,2,3])"
      ],
      "execution_count": 0,
      "outputs": []
    },
    {
      "cell_type": "code",
      "metadata": {
        "id": "pbRovyWgB0UM",
        "colab_type": "code",
        "colab": {}
      },
      "source": [
        "a_list=[1,'hello',[1,2,3],True]"
      ],
      "execution_count": 0,
      "outputs": []
    },
    {
      "cell_type": "code",
      "metadata": {
        "id": "8hPy-fc3B8hH",
        "colab_type": "code",
        "colab": {
          "base_uri": "https://localhost:8080/",
          "height": 34
        },
        "outputId": "97efedf6-5b7c-472c-cbd2-127268064dc9"
      },
      "source": [
        "a_list"
      ],
      "execution_count": 18,
      "outputs": [
        {
          "output_type": "execute_result",
          "data": {
            "text/plain": [
              "[1, 'hello', [1, 2, 3], True]"
            ]
          },
          "metadata": {
            "tags": []
          },
          "execution_count": 18
        }
      ]
    },
    {
      "cell_type": "code",
      "metadata": {
        "id": "GNCv1U0OB-3Z",
        "colab_type": "code",
        "colab": {
          "base_uri": "https://localhost:8080/",
          "height": 34
        },
        "outputId": "d01ad922-bc57-4340-f9ab-30ae2dc98bb9"
      },
      "source": [
        "a_list[1]"
      ],
      "execution_count": 20,
      "outputs": [
        {
          "output_type": "execute_result",
          "data": {
            "text/plain": [
              "'hello'"
            ]
          },
          "metadata": {
            "tags": []
          },
          "execution_count": 20
        }
      ]
    },
    {
      "cell_type": "code",
      "metadata": {
        "id": "SQCeVyb4DbcQ",
        "colab_type": "code",
        "colab": {
          "base_uri": "https://localhost:8080/",
          "height": 34
        },
        "outputId": "9264b91c-d7b5-4ab1-98e0-8f400895a6a9"
      },
      "source": [
        "a_list[1:4]"
      ],
      "execution_count": 26,
      "outputs": [
        {
          "output_type": "execute_result",
          "data": {
            "text/plain": [
              "['hello', [1, 2, 3], True]"
            ]
          },
          "metadata": {
            "tags": []
          },
          "execution_count": 26
        }
      ]
    },
    {
      "cell_type": "code",
      "metadata": {
        "id": "50kfddrlD6Xb",
        "colab_type": "code",
        "colab": {}
      },
      "source": [
        "listA= [1,'a']\n",
        "listB= [2,1,'d']"
      ],
      "execution_count": 0,
      "outputs": []
    },
    {
      "cell_type": "code",
      "metadata": {
        "id": "mIOO9dGkEyY1",
        "colab_type": "code",
        "colab": {
          "base_uri": "https://localhost:8080/",
          "height": 34
        },
        "outputId": "819110f4-7240-40d5-87d2-2c068b5cd884"
      },
      "source": [
        "listA.extend(listB)\n",
        "print(listA)"
      ],
      "execution_count": 52,
      "outputs": [
        {
          "output_type": "stream",
          "text": [
            "[1, 'a', 2, 1, 'd']\n"
          ],
          "name": "stdout"
        }
      ]
    },
    {
      "cell_type": "code",
      "metadata": {
        "id": "bLnWvB2cE-tO",
        "colab_type": "code",
        "colab": {}
      },
      "source": [
        "#Dictionaries"
      ],
      "execution_count": 0,
      "outputs": []
    },
    {
      "cell_type": "code",
      "metadata": {
        "id": "Jfg5Tn0AHRpn",
        "colab_type": "code",
        "colab": {}
      },
      "source": [
        "dic1=[(\"The Bodyguard\",\"1992\"),(\"Saturday Night Fever\",\"1977\")]"
      ],
      "execution_count": 0,
      "outputs": []
    },
    {
      "cell_type": "code",
      "metadata": {
        "id": "qPQdw7BZRU_Q",
        "colab_type": "code",
        "colab": {
          "base_uri": "https://localhost:8080/",
          "height": 34
        },
        "outputId": "c1af9c70-fb21-40a5-c03b-e6953a30258a"
      },
      "source": [
        "type(dic1)"
      ],
      "execution_count": 2,
      "outputs": [
        {
          "output_type": "execute_result",
          "data": {
            "text/plain": [
              "list"
            ]
          },
          "metadata": {
            "tags": []
          },
          "execution_count": 2
        }
      ]
    },
    {
      "cell_type": "code",
      "metadata": {
        "id": "1ykbZ3ZURWQn",
        "colab_type": "code",
        "colab": {
          "base_uri": "https://localhost:8080/",
          "height": 34
        },
        "outputId": "225ce5b3-bf07-4785-b40f-5e09f6bb1b80"
      },
      "source": [
        "MovieList=dict(dic1)\n",
        "MovieList"
      ],
      "execution_count": 7,
      "outputs": [
        {
          "output_type": "execute_result",
          "data": {
            "text/plain": [
              "{'Saturday Night Fever': '1977', 'The Bodyguard': '1992'}"
            ]
          },
          "metadata": {
            "tags": []
          },
          "execution_count": 7
        }
      ]
    },
    {
      "cell_type": "code",
      "metadata": {
        "id": "3FbkYso4Rqfk",
        "colab_type": "code",
        "colab": {
          "base_uri": "https://localhost:8080/",
          "height": 34
        },
        "outputId": "f9a0554b-a8f6-410f-ae38-da505e9740b3"
      },
      "source": [
        "list(MovieList.keys())"
      ],
      "execution_count": 9,
      "outputs": [
        {
          "output_type": "execute_result",
          "data": {
            "text/plain": [
              "['The Bodyguard', 'Saturday Night Fever']"
            ]
          },
          "metadata": {
            "tags": []
          },
          "execution_count": 9
        }
      ]
    },
    {
      "cell_type": "code",
      "metadata": {
        "id": "RoWiphbGRzrm",
        "colab_type": "code",
        "colab": {
          "base_uri": "https://localhost:8080/",
          "height": 34
        },
        "outputId": "dc498bad-df4a-4ddd-ad92-1b22542f7798"
      },
      "source": [
        "list(MovieList.values())"
      ],
      "execution_count": 10,
      "outputs": [
        {
          "output_type": "execute_result",
          "data": {
            "text/plain": [
              "['1992', '1977']"
            ]
          },
          "metadata": {
            "tags": []
          },
          "execution_count": 10
        }
      ]
    },
    {
      "cell_type": "code",
      "metadata": {
        "id": "POpJFpMZSKta",
        "colab_type": "code",
        "colab": {}
      },
      "source": [
        "#Set"
      ],
      "execution_count": 0,
      "outputs": []
    },
    {
      "cell_type": "code",
      "metadata": {
        "id": "MURisklhUIrF",
        "colab_type": "code",
        "colab": {}
      },
      "source": [
        "list1=('rap','house','electronic music','rap')"
      ],
      "execution_count": 0,
      "outputs": []
    },
    {
      "cell_type": "code",
      "metadata": {
        "id": "udX7J7jZVAIn",
        "colab_type": "code",
        "colab": {}
      },
      "source": [
        "set1=set(list1)"
      ],
      "execution_count": 0,
      "outputs": []
    },
    {
      "cell_type": "code",
      "metadata": {
        "id": "0CDvepDeVCK0",
        "colab_type": "code",
        "colab": {
          "base_uri": "https://localhost:8080/",
          "height": 34
        },
        "outputId": "cdf4b23c-2014-4b68-f945-7d2fc1f456e3"
      },
      "source": [
        "set1"
      ],
      "execution_count": 14,
      "outputs": [
        {
          "output_type": "execute_result",
          "data": {
            "text/plain": [
              "{'electronic music', 'house', 'rap'}"
            ]
          },
          "metadata": {
            "tags": []
          },
          "execution_count": 14
        }
      ]
    },
    {
      "cell_type": "code",
      "metadata": {
        "id": "07bq7Y2_VEPJ",
        "colab_type": "code",
        "colab": {}
      },
      "source": [
        "list_A=(1,2,2,1)\n",
        "set_B={1,2,2,1}"
      ],
      "execution_count": 0,
      "outputs": []
    },
    {
      "cell_type": "code",
      "metadata": {
        "id": "zieE7ojZVOjp",
        "colab_type": "code",
        "colab": {
          "base_uri": "https://localhost:8080/",
          "height": 34
        },
        "outputId": "8a2df64a-f136-4689-dcf5-17e8db09f5fd"
      },
      "source": [
        "sum(list_A)"
      ],
      "execution_count": 26,
      "outputs": [
        {
          "output_type": "execute_result",
          "data": {
            "text/plain": [
              "6"
            ]
          },
          "metadata": {
            "tags": []
          },
          "execution_count": 26
        }
      ]
    },
    {
      "cell_type": "code",
      "metadata": {
        "id": "j-xaI763V1dV",
        "colab_type": "code",
        "colab": {
          "base_uri": "https://localhost:8080/",
          "height": 34
        },
        "outputId": "afc93a73-0bca-43bf-a2ff-9f73ada714df"
      },
      "source": [
        "sum(set_B)"
      ],
      "execution_count": 27,
      "outputs": [
        {
          "output_type": "execute_result",
          "data": {
            "text/plain": [
              "3"
            ]
          },
          "metadata": {
            "tags": []
          },
          "execution_count": 27
        }
      ]
    },
    {
      "cell_type": "code",
      "metadata": {
        "id": "G01NoUIFV5YF",
        "colab_type": "code",
        "colab": {
          "base_uri": "https://localhost:8080/",
          "height": 34
        },
        "outputId": "dcbf4f95-ba3f-4e92-86fc-19df76c571b9"
      },
      "source": [
        "if ((sum(list_A))==(sum(set_B))):\n",
        "    print(True)\n",
        "else:\n",
        "    print(False)"
      ],
      "execution_count": 30,
      "outputs": [
        {
          "output_type": "stream",
          "text": [
            "False\n"
          ],
          "name": "stdout"
        }
      ]
    },
    {
      "cell_type": "code",
      "metadata": {
        "id": "LmhxIFAjWANE",
        "colab_type": "code",
        "colab": {}
      },
      "source": [
        "album_set1={\"Thriller\",\"AC/CD\",\"Back in Black\"}"
      ],
      "execution_count": 0,
      "outputs": []
    },
    {
      "cell_type": "code",
      "metadata": {
        "id": "iVCy1N3FXa5v",
        "colab_type": "code",
        "colab": {}
      },
      "source": [
        "album_set2={\"AC/DC\",\"Back in Black\",\"The Dark Side of the Moon\"}"
      ],
      "execution_count": 0,
      "outputs": []
    },
    {
      "cell_type": "code",
      "metadata": {
        "id": "VsB_13UEXlZG",
        "colab_type": "code",
        "colab": {}
      },
      "source": [
        "album_set3=album_set1|album_set2"
      ],
      "execution_count": 0,
      "outputs": []
    },
    {
      "cell_type": "code",
      "metadata": {
        "id": "iKAqgMUZXv-3",
        "colab_type": "code",
        "colab": {
          "base_uri": "https://localhost:8080/",
          "height": 34
        },
        "outputId": "fffac89d-7886-4051-aae0-c3226c013f7d"
      },
      "source": [
        "album_set3"
      ],
      "execution_count": 34,
      "outputs": [
        {
          "output_type": "execute_result",
          "data": {
            "text/plain": [
              "{'AC/CD', 'AC/DC', 'Back in Black', 'The Dark Side of the Moon', 'Thriller'}"
            ]
          },
          "metadata": {
            "tags": []
          },
          "execution_count": 34
        }
      ]
    },
    {
      "cell_type": "code",
      "metadata": {
        "id": "TcbTUXQlXx1_",
        "colab_type": "code",
        "colab": {
          "base_uri": "https://localhost:8080/",
          "height": 34
        },
        "outputId": "acfbdcf7-4447-4e27-c95b-40a60bb71a3e"
      },
      "source": [
        "album_set1<=album_set3"
      ],
      "execution_count": 36,
      "outputs": [
        {
          "output_type": "execute_result",
          "data": {
            "text/plain": [
              "True"
            ]
          },
          "metadata": {
            "tags": []
          },
          "execution_count": 36
        }
      ]
    },
    {
      "cell_type": "code",
      "metadata": {
        "id": "AvR_VmuNX_J-",
        "colab_type": "code",
        "colab": {}
      },
      "source": [
        "#Conditions"
      ],
      "execution_count": 0,
      "outputs": []
    },
    {
      "cell_type": "code",
      "metadata": {
        "id": "AqzSyJGUYKZV",
        "colab_type": "code",
        "colab": {}
      },
      "source": [
        "Dict ={\"Artist\": \"Michael\", \"Genre\": \"R&B\"}"
      ],
      "execution_count": 0,
      "outputs": []
    },
    {
      "cell_type": "code",
      "metadata": {
        "id": "kw0AiQTSZUZY",
        "colab_type": "code",
        "colab": {
          "base_uri": "https://localhost:8080/",
          "height": 34
        },
        "outputId": "72123138-fa69-49f9-f261-22d4e6111d4d"
      },
      "source": [
        "if(Dict[\"Artist\"]==\"Michael\"):\n",
        "  print(Dict[\"Genre\"])\n",
        "else:\n",
        "  print(\"Nope!\")"
      ],
      "execution_count": 40,
      "outputs": [
        {
          "output_type": "stream",
          "text": [
            "R&B\n"
          ],
          "name": "stdout"
        }
      ]
    },
    {
      "cell_type": "code",
      "metadata": {
        "id": "v3TwUKNlnP_j",
        "colab_type": "code",
        "colab": {}
      },
      "source": [
        "if(x=celsius):\n",
        "  y=x*1.8+32\n",
        "  print(\"celsius to fahrenheit: y\")\n",
        "else:\n",
        "  y=(x-32)*(5/9)\n",
        "  print(\"fahrenheit to celsius: y\")"
      ],
      "execution_count": 0,
      "outputs": []
    },
    {
      "cell_type": "code",
      "metadata": {
        "id": "QOpj8Zf_ytnP",
        "colab_type": "code",
        "colab": {
          "base_uri": "https://localhost:8080/",
          "height": 52
        },
        "outputId": "d686164d-8ed5-4cd8-cc35-49af281ca026"
      },
      "source": [
        "numbers=[1,3,4,6,34,59,231]\n",
        "position=0\n",
        "even_count=0\n",
        "odd_count=0\n",
        "while position<len(numbers):\n",
        "  number=numbers[position]\n",
        "  if (number%2==0):\n",
        "    even_count+=1\n",
        "    position+=1\n",
        "  else:\n",
        "    odd_count+=1\n",
        "    position+=1\n",
        "e=int(even_count)\n",
        "o=int(odd_count)\n",
        "\n",
        "print(\"짝수: %d개\" %e)\n",
        "print(\"홀수: %d개\" %o)"
      ],
      "execution_count": 70,
      "outputs": [
        {
          "output_type": "stream",
          "text": [
            "짝수: 3개\n",
            "홀수: 4개\n"
          ],
          "name": "stdout"
        }
      ]
    },
    {
      "cell_type": "code",
      "metadata": {
        "id": "14S0qnyf0U5X",
        "colab_type": "code",
        "colab": {}
      },
      "source": [
        ""
      ],
      "execution_count": 0,
      "outputs": []
    }
  ]
}